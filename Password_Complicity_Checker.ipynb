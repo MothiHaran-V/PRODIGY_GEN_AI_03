{
  "nbformat": 4,
  "nbformat_minor": 0,
  "metadata": {
    "colab": {
      "provenance": []
    },
    "kernelspec": {
      "name": "python3",
      "display_name": "Python 3"
    },
    "language_info": {
      "name": "python"
    }
  },
  "cells": [
    {
      "cell_type": "code",
      "execution_count": 2,
      "metadata": {
        "colab": {
          "base_uri": "https://localhost:8080/"
        },
        "id": "mnV5Kf8ud1Ly",
        "outputId": "10ed86bc-9e1e-419e-cbd2-0cfe1d161252"
      },
      "outputs": [
        {
          "output_type": "stream",
          "name": "stdout",
          "text": [
            "Enter your password: daytrading@123\n",
            "\n",
            "Password Strength: Moderate\n",
            "Suggestions:\n",
            "- Use a mix of uppercase and lowercase letters.\n"
          ]
        }
      ],
      "source": [
        "import re\n",
        "\n",
        "def check_password_strength(password):\n",
        "    score = 0\n",
        "    feedback = []\n",
        "\n",
        "    # Length check\n",
        "    if len(password) >= 8:\n",
        "        score += 1\n",
        "    else:\n",
        "        feedback.append(\"Password should be at least 8 characters long.\")\n",
        "\n",
        "    # Uppercase and lowercase check\n",
        "    if re.search(r'[A-Z]', password) and re.search(r'[a-z]', password):\n",
        "        score += 1\n",
        "    else:\n",
        "        feedback.append(\"Use a mix of uppercase and lowercase letters.\")\n",
        "\n",
        "    # Digit check\n",
        "    if re.search(r'\\d', password):\n",
        "        score += 1\n",
        "    else:\n",
        "        feedback.append(\"Include at least one number.\")\n",
        "\n",
        "    # Special character check\n",
        "    if re.search(r'[\\W_]', password):\n",
        "        score += 1\n",
        "    else:\n",
        "        feedback.append(\"Add at least one special character (e.g. @, #, $).\")\n",
        "\n",
        "    # Overall strength\n",
        "    if score == 4:\n",
        "        strength = \"Strong\"\n",
        "    elif score == 3:\n",
        "        strength = \"Moderate\"\n",
        "    else:\n",
        "        strength = \"Weak\"\n",
        "\n",
        "    return strength, feedback\n",
        "\n",
        "# === Example Usage ===\n",
        "def main():\n",
        "    password = input(\"Enter your password: \")\n",
        "    strength, feedback = check_password_strength(password)\n",
        "    print(f\"\\nPassword Strength: {strength}\")\n",
        "    if feedback:\n",
        "        print(\"Suggestions:\")\n",
        "        for item in feedback:\n",
        "            print(\"-\", item)\n",
        "\n",
        "if __name__ == \"__main__\":\n",
        "    main()\n",
        ""
      ]
    }
  ]
}